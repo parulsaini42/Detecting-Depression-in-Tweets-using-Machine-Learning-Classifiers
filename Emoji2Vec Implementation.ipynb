{
 "cells": [
  {
   "cell_type": "markdown",
   "id": "ab1deb3c",
   "metadata": {},
   "source": [
    "# Importing Libraries"
   ]
  },
  {
   "cell_type": "code",
   "execution_count": 3,
   "id": "34905fab",
   "metadata": {},
   "outputs": [],
   "source": [
    "import pandas as pd\n",
    "import pickle as pk\n",
    "import matplotlib.pyplot as plt \n",
    "import sklearn.metrics as met\n",
    "import scipy.stats as stats\n",
    "import numpy as np\n",
    "import string\n",
    "\n",
    "import gensim.downloader as api\n",
    "from gensim.models import KeyedVectors\n",
    "from gensim import models\n",
    "from ast import literal_eval\n",
    "\n",
    "from sklearn.model_selection import train_test_split\n",
    "import phrase2vec as p2v\n",
    "from model import ModelParams\n",
    "\n",
    "from sklearn.metrics import accuracy_score,precision_score,recall_score,f1_score,mean_squared_error\n",
    "from sklearn.metrics import classification_report, confusion_matrix\n",
    "from sklearn.metrics import roc_curve, auc"
   ]
  },
  {
   "cell_type": "markdown",
   "id": "baa2dd2d",
   "metadata": {},
   "source": [
    "### Code adopted from original Emoji2Vec paper for creating vector representations.\n",
    "https://arxiv.org/abs/1609.08359\n",
    "\n",
    "1. Create Word2Vec model  - p2v_no_emoji \n",
    "2. Create Emoji2Vec model - p2v_our_emoji"
   ]
  },
  {
   "cell_type": "code",
   "execution_count": 4,
   "id": "3e080d0a",
   "metadata": {},
   "outputs": [],
   "source": [
    "#loading word2Vec and emoji2Vec\n",
    "w2v= api.load('word2vec-google-news-300')\n",
    "e2v_ours_path = 'pre-trained/emoji2vec.bin'\n",
    "e2v_ours = models.KeyedVectors.load_word2vec_format(e2v_ours_path, binary=True)\n"
   ]
  },
  {
   "cell_type": "code",
   "execution_count": 5,
   "id": "a4f1a2eb",
   "metadata": {},
   "outputs": [],
   "source": [
    "#The Emoji2Vec model\n",
    "in_dim = 300   # Length of word2vec vectors\n",
    "out_dim = 300  # Desired dimension of output vectors\n",
    "pos_ex = 4\n",
    "neg_ratio = 1\n",
    "max_epochs = 40\n",
    "dropout = 0.0\n",
    "\n",
    "params = ModelParams(in_dim=in_dim, out_dim=out_dim, pos_ex=pos_ex, max_epochs=max_epochs,\n",
    "                    neg_ratio=neg_ratio, learning_rate=0.001, dropout=dropout, class_threshold=0.5)\n"
   ]
  },
  {
   "cell_type": "code",
   "execution_count": 12,
   "id": "eecb0159",
   "metadata": {},
   "outputs": [],
   "source": [
    "'''\n",
    "Phase2Vec: Wrapper for word2vec and emoji2vec models, so that we can query by entire phrase, rather than by\n",
    "individual words.\n",
    "'''\n",
    "p2v_no_emoji = p2v.Phrase2Vec(out_dim, w2v, e2v=None)\n",
    "p2v_our_emoji = p2v.Phrase2Vec(out_dim, w2v, e2v=e2v_ours)"
   ]
  },
  {
   "cell_type": "markdown",
   "id": "66ece578",
   "metadata": {},
   "source": [
    "### Loading Tweets"
   ]
  },
  {
   "cell_type": "code",
   "execution_count": 13,
   "id": "cccbcdc6",
   "metadata": {
    "scrolled": true
   },
   "outputs": [],
   "source": [
    "#Loading Processed Tweets\n",
    "tweets=[]\n",
    "file= pd.read_csv('tweets/sentiment_processed.csv')\n",
    "depressed = file[file['sentiment']=='tensor(0)']\n",
    "non_depressed = file[file['sentiment']=='tensor(1)']\n",
    "#Setting negative class label to 0:\n",
    "for i in range(non_depressed.shape[0]):\n",
    "        non_depressed['label'].iloc[i]=0\n",
    "tweets = pd.concat([depressed, non_depressed]).reset_index(drop=True)\n",
    "tweets = tweets.dropna()\n",
    "\n",
    "tweets\n",
    "#Covertin tokens to string\n",
    "sentences = []\n",
    "for i in tweets.index:\n",
    "    a = literal_eval(tweets['processed_text'].iloc[i])\n",
    "    sentences.append(a)\n",
    "\n",
    "\n",
    "preprocessed_sentences=[]\n",
    "for i in tweets.index:\n",
    "    preprocessed_sentences.append(' '.join(sentences[i]))\n",
    "tweets['sen'] = preprocessed_sentences\n",
    "\n",
    "\n"
   ]
  },
  {
   "cell_type": "code",
   "execution_count": 14,
   "id": "5e8ababe",
   "metadata": {},
   "outputs": [
    {
     "name": "stdout",
     "output_type": "stream",
     "text": [
      "Depressed (6553, 7)\n",
      "Non Depressed (9013, 7)\n"
     ]
    },
    {
     "data": {
      "text/plain": [
       "((15566, 8), (15566, 2))"
      ]
     },
     "execution_count": 14,
     "metadata": {},
     "output_type": "execute_result"
    }
   ],
   "source": [
    "#selecting only the columns we will actually use\n",
    "df = tweets[['label', 'sen']]\n",
    "print('Depressed',depressed.shape)\n",
    "print('Non Depressed',non_depressed.shape)\n",
    "tweets.shape, df.shape"
   ]
  },
  {
   "cell_type": "markdown",
   "id": "b47a91b9",
   "metadata": {},
   "source": [
    "### Code adopted from original Emoji2Vec paper for creating vector representations.\n",
    "https://arxiv.org/abs/1609.08359"
   ]
  },
  {
   "cell_type": "code",
   "execution_count": 15,
   "id": "fbd2204c",
   "metadata": {},
   "outputs": [],
   "source": [
    "import nltk.tokenize as tk\n",
    "def prepare_tweet_vector_averages(tweets, p2v):\n",
    "    \"\"\"Take the vector sum of all tokens in each tweet\n",
    "    Args:\n",
    "        tweets: All tweets\n",
    "        p2v: Phrase2Vec model\n",
    "    Returns:\n",
    "        Average vectors for each tweet\n",
    "        Truth\n",
    "    \"\"\"\n",
    "    tokenizer = tk.TweetTokenizer(preserve_case=False, reduce_len=True, strip_handles=True)\n",
    "\n",
    "    avg_vecs = list()\n",
    "    \n",
    "\n",
    "    for tweet in tweets:\n",
    "        tokens = tokenizer.tokenize(tweet)\n",
    "        avg_vecs.append(np.sum([p2v[x] for x in tokens], axis=0) / len(tokens))\n",
    "\n",
    "    return avg_vecs"
   ]
  },
  {
   "cell_type": "code",
   "execution_count": 40,
   "id": "9f68a63b",
   "metadata": {},
   "outputs": [],
   "source": [
    "#Creating test splits\n",
    "np.random.seed(0)\n",
    "X_train, X_test, y_train, y_test = train_test_split(np.array(df['sen']), np.array(df['label']), test_size=0.2)\n",
    "train_w2v = prepare_tweet_vector_averages(X_train, p2v_no_emoji)\n",
    "train_e2v = prepare_tweet_vector_averages(X_train, p2v_our_emoji)\n",
    "test_w2v  = prepare_tweet_vector_averages(X_test, p2v_no_emoji)\n",
    "test_e2v = prepare_tweet_vector_averages(X_test, p2v_our_emoji)"
   ]
  },
  {
   "cell_type": "markdown",
   "id": "14cbb944",
   "metadata": {},
   "source": [
    "### Behavior of the two models corresponding to an emoji"
   ]
  },
  {
   "cell_type": "code",
   "execution_count": 171,
   "id": "f40b904b",
   "metadata": {},
   "outputs": [
    {
     "data": {
      "text/plain": [
       "array([ 0.05808197, -0.01469222,  0.06606557,  0.06281745, -0.07089687,\n",
       "       -0.01058779,  0.02780172, -0.07202497,  0.06981696,  0.07128274],\n",
       "      dtype=float32)"
      ]
     },
     "execution_count": 171,
     "metadata": {},
     "output_type": "execute_result"
    }
   ],
   "source": [
    "vec = p2v_our_emoji['😄'][0:10]"
   ]
  },
  {
   "cell_type": "code",
   "execution_count": 172,
   "id": "92532119",
   "metadata": {},
   "outputs": [
    {
     "data": {
      "text/plain": [
       "array([0., 0., 0., 0., 0., 0., 0., 0., 0., 0.], dtype=float32)"
      ]
     },
     "execution_count": 172,
     "metadata": {},
     "output_type": "execute_result"
    }
   ],
   "source": [
    "vec = p2v_no_emoji['😄'][0:10]"
   ]
  },
  {
   "cell_type": "markdown",
   "id": "85a95be0",
   "metadata": {},
   "source": [
    "## Model Evaluations"
   ]
  },
  {
   "cell_type": "code",
   "execution_count": 46,
   "id": "e26f033e",
   "metadata": {},
   "outputs": [],
   "source": [
    "from sklearn.neighbors import KNeighborsClassifier\n",
    "from sklearn.naive_bayes import GaussianNB\n",
    "from sklearn.tree import DecisionTreeClassifier\n",
    "from sklearn.ensemble import AdaBoostClassifier\n",
    "from sklearn.ensemble import RandomForestClassifier\n",
    "from sklearn.linear_model import LogisticRegression\n",
    "from sklearn.svm import SVC\n",
    "from sklearn.metrics import accuracy_score, f1_score\n",
    "from sklearn.model_selection import GridSearchCV\n",
    "from sklearn.model_selection import cross_val_score\n",
    "import tensorflow as tf\n",
    "from tensorflow import keras\n",
    "from keras import layers"
   ]
  },
  {
   "cell_type": "markdown",
   "id": "1d0fcf6e",
   "metadata": {},
   "source": [
    "### Model "
   ]
  },
  {
   "cell_type": "markdown",
   "id": "3e4e7512",
   "metadata": {},
   "source": [
    "#### Hyperparameters Tuned\n",
    "\n",
    "params_grid_lr = [{'penalty': ['l1', 'l2', 'elasticnet']}]\n",
    "\n",
    "params_grid_svm = [{'kernel': ['linear', 'poly', 'rbf', 'sigmoid'], 'gamma': ['scale', 'auto']}]\n",
    "\n",
    "param_grid_random_forest = { \n",
    "        'n_estimators': [200, 100,300],\n",
    "        'max_features': ['auto', 'sqrt', 'log2'],\n",
    "        'max_depth' : [5,10],\n",
    "        'criterion' :['gini', 'entropy']                             }\n",
    "\n",
    "param_grid_adaboost = {\"base_estimator__criterion\" : [\"gini\", \"entropy\"],\n",
    "                  \"base_estimator__splitter\" :   [\"best\", \"random\"],\n",
    "                  \"base_estimator__max_depth\" : [5,10],\n",
    "                  \"n_estimators\": [5, 10,20]\n",
    "                 } \n",
    "\n",
    "param_grid_decision_tree = {\"criterion\" : [\"gini\", \"entropy\"],\n",
    "                  \"splitter\" :   [\"best\", \"random\"],\n",
    "                  \"max_depth\" : [5,10,15,20]\n",
    "                 }\n"
   ]
  },
  {
   "cell_type": "code",
   "execution_count": 132,
   "id": "e364fee3",
   "metadata": {},
   "outputs": [
    {
     "name": "stdout",
     "output_type": "stream",
     "text": [
      "\n",
      "KNN Results:\n",
      "\n",
      "Neural Network results:\n",
      "\n",
      "Performance evaluation Emoji2Vec\n",
      "train score 0.8477352857589722\n",
      "test score 0.8346178531646729\n",
      "F1 score  0.7996888370283938\n"
     ]
    },
    {
     "data": {
      "image/png": "[encoded data removed]",
      "text/plain": [
       "<Figure size 432x288 with 1 Axes>"
      ]
     },
     "metadata": {
      "needs_background": "light"
     },
     "output_type": "display_data"
    },
    {
     "name": "stdout",
     "output_type": "stream",
     "text": [
      "\n",
      "Performance evaluation Word2Vec\n",
      "train score 0.85054612159729\n",
      "test score 0.8352600932121277\n",
      "F1 score  0.7950459448661605\n"
     ]
    },
    {
     "data": {
      "image/png": "[encoded data removed]",
      "text/plain": [
       "<Figure size 432x288 with 1 Axes>"
      ]
     },
     "metadata": {
      "needs_background": "light"
     },
     "output_type": "display_data"
    }
   ],
   "source": [
    "#Best parameters identified using GridSearchCV\n",
    "\n",
    "e2v=[]\n",
    "w2v=[]\n",
    "\n",
    "\n",
    "\n",
    "def logistic_regression(x_train,y_train,x_test,y_test,p):\n",
    "    \n",
    "    classifier = LogisticRegression(penalty='l2')\n",
    "    clf = classifier.fit(x_train,y_train)\n",
    "    print(\"train score: \",clf.score(x_train,y_train))\n",
    "    y_pred = clf.predict(x_test)\n",
    "    scLogistic = accuracy_score(y_test,y_pred)\n",
    "    print(\"test score  \" ,scLogistic)\n",
    "    f1LR =  f1_score(y_test,y_pred)\n",
    "    print(\"F1 score \" ,f1LR)\n",
    "    roc(x_test,y_test,clf,'Logistic Regression',p)\n",
    "    return scLogistic\n",
    "\n",
    "def svm(x_train,y_train,x_test,y_test,p):\n",
    "    \n",
    "    classifier = SVC(kernel='rbf', gamma='scale',probability=True)\n",
    "    clf = classifier.fit(x_train,y_train)\n",
    "    print(\"train score: \",clf.score(x_train,y_train))\n",
    "    y_pred = clf.predict(x_test)\n",
    "    scSVM = accuracy_score(y_test,y_pred)\n",
    "    print(\"test score  \" ,scSVM)\n",
    "    f1SVM =  f1_score(y_test,y_pred)\n",
    "    print(\"F1 score \" ,f1SVM)\n",
    "    roc(x_test,y_test,clf,'SVM',p)\n",
    "    return scSVM\n",
    "\n",
    "\n",
    "\n",
    "def neural_network(x_train,y_train,x_test,y_test,p):\n",
    "    input_shape = (300,)\n",
    "    batch_size=64\n",
    "    epochs = 20\n",
    "    x_train = np.array(x_train)\n",
    "    x_test = np.array(x_test)\n",
    "    classifier = keras.Sequential(\n",
    "            [\n",
    "                keras.Input(shape=input_shape),\n",
    "                layers.Dense(64, activation='relu'),\n",
    "                layers.Dropout(0.8),\n",
    "                layers.Dense(32, activation='relu'),\n",
    "                layers.Dropout(0.8),\n",
    "                layers.Dense(2, activation='sigmoid', name='output')\n",
    "            ]\n",
    "        )\n",
    "    train_labels_onehot = keras.utils.to_categorical(y_train, 2)\n",
    "    test_labels_onehot = keras.utils.to_categorical(y_test, 2)\n",
    "    classifier.compile(loss=\"binary_crossentropy\", optimizer=\"adam\", metrics=[\"accuracy\"])\n",
    "    history = classifier.fit(x_train,train_labels_onehot, batch_size=batch_size, epochs=epochs, shuffle=True,validation_split=0.15, verbose=0)\n",
    "    score_test = classifier.evaluate(x_test,test_labels_onehot, verbose=0)\n",
    "    score_train = classifier.evaluate(x_train,train_labels_onehot, verbose=0)\n",
    "    y_pred=np.argmax(classifier.predict(x_test), axis=1)\n",
    "    print(\"train score\", score_train[1])\n",
    "    print(\"test score\", score_test[1])\n",
    "    f1nn =  f1_score(y_test,y_pred)\n",
    "    print(\"F1 score \" ,f1nn)\n",
    "    roc(x_test,y_test,classifier,'Neural Network',p)\n",
    "    return score_test[1]\n",
    "    \n",
    "def random_forest(x_train,y_train,x_test,y_test,p):\n",
    "    classifier=RandomForestClassifier(criterion ='entropy', max_depth = 10, max_features = 'auto', n_estimators = 200)\n",
    "    clf=classifier.fit(x_train,y_train)\n",
    "    print(\"train score: \",clf.score(x_train,y_train))\n",
    "    y_pred = clf.predict(x_test)\n",
    "    scRF = accuracy_score(y_test,y_pred)\n",
    "    print(\"test score \" ,scRF)\n",
    "    f1RF =  f1_score(y_test,y_pred)\n",
    "    print(\"F1 score \" ,scRF)\n",
    "    roc(x_test,y_test,clf,'Random Forest',p)\n",
    "    return scRF\n",
    "\n",
    "def ada_boost(x_train,y_train,x_test,y_test,p):\n",
    "    classifier_tree = DecisionTreeClassifier(criterion = 'gini', splitter = 'best', max_depth=20)\n",
    "    classifier = AdaBoostClassifier(base_estimator = classifier_tree,n_estimators = 20)\n",
    "    clf=classifier.fit(x_train,y_train)\n",
    "    print(\"train score: \",clf.score(x_train,y_train))\n",
    "    y_pred = clf.predict(x_test)\n",
    "    scADA = accuracy_score(y_test,y_pred)\n",
    "    print(\"test score \" ,scADA)\n",
    "    f1ADA =  f1_score(y_test,y_pred)\n",
    "    print(\"F1 score \" ,scADA)\n",
    "    roc(x_test,y_test, clf,'Adaboost',p)\n",
    "    return scADA \n",
    "    \n",
    "    \n",
    "def decision_trees(x_train,y_train,x_test,y_test,p):\n",
    "    classifier =DecisionTreeClassifier(criterion = 'entropy', splitter = 'best', max_depth=10)\n",
    "    clf=classifier.fit(x_train,y_train)\n",
    "    print(\"train score: \",clf.score(x_train,y_train))\n",
    "    y_pred = clf.predict(x_test)\n",
    "    DT = accuracy_score(y_test,y_pred)\n",
    "    print(\"test score \" ,DT)\n",
    "    f1DT =  f1_score(y_test,y_pred)\n",
    "    print(\"F1 score \" ,f1DT)\n",
    "    roc(x_test,y_test,clf,'Decision Tree',p)\n",
    "    return DT\n",
    "\n",
    "def naive(x_train,y_train,x_test,y_test,p):\n",
    "   \n",
    "    classifier = GaussianNB()\n",
    "    clf=classifier.fit(x_train,y_train)\n",
    "    print(\"train score: \",clf.score(x_train,y_train))\n",
    "    y_pred = clf.predict(x_test)\n",
    "    GNB = accuracy_score(y_test,y_pred)\n",
    "    print(\"test score \" ,GNB)\n",
    "    f1GNB =  f1_score(y_test,y_pred)\n",
    "    print(\"F1 score \" ,f1GNB)\n",
    "    roc(x_test,y_test,clf,'Gaussian NB',p)\n",
    "    return GNB \n",
    "\n",
    "def knn_model(x_train,y_train,x_test,y_test,k,p):\n",
    "    print('KNeighbors Algorithm model for k:{}'.format(k))\n",
    "    classifier = KNeighborsClassifier(n_neighbors =k)\n",
    "    clf=classifier.fit(x_train,y_train)\n",
    "    print(\"train score: \",clf.score(x_train,y_train))\n",
    "    y_pred = clf.predict(x_test)\n",
    "    scKNN = accuracy_score(y_test,y_pred)\n",
    "    print(\"test score  \" ,scKNN)\n",
    "    f1KNN =  f1_score(y_test,y_pred)\n",
    "    print(\"F1 score \" ,f1KNN)\n",
    "    roc(x_test,y_test,clf,'KNN',p)\n",
    "    return scKNN\n",
    "\n",
    "def roc(x_test,y_test,model,param,p):\n",
    "    if param=='Neural Network':\n",
    "        y_score = model.predict(x_test)[:,1]\n",
    "    else:\n",
    "        y_score = model.predict_proba(x_test)[:,1]\n",
    "    fpr, tpr, thresholds = roc_curve(y_test, y_score)\n",
    "    \n",
    "    if p=='w2v':\n",
    "        plt.plot(fpr,tpr,color='orange')\n",
    "    else:\n",
    "        plt.plot(fpr,tpr,color='C0')\n",
    "  \n",
    "    plt.plot([0,1],[0,1],'k--')\n",
    "    plt.xlabel('fpr')\n",
    "    plt.ylabel('tpr')\n",
    "    plt.title(param +' ROC curve')\n",
    "    plt.show()\n",
    "    \n",
    "def main():\n",
    "    \n",
    "    knn_e2v=[]\n",
    "    knn_w2v=[]\n",
    "    naive_e2v=[]\n",
    "    naive_w2v=[]\n",
    "    dt_e2v=[]\n",
    "    dt_w2v=[]\n",
    "    ada_e2v=[]\n",
    "    ada_w2v=[]\n",
    "    rf_e2v=[]\n",
    "    rf_w2v=[]\n",
    "    svm_e2v=[]\n",
    "    svm_w2v=[]\n",
    "    lr_e2v=[]\n",
    "    lr_w2v=[]\n",
    "    nn_e2v=[]\n",
    "    nn_w2v=[]\n",
    "    \n",
    "    \n",
    "    for i in range(0,1):\n",
    "        print('\\nKNN Results:')\n",
    "        \n",
    "        print('\\nPerformance evaluation Emoji2Vec')\n",
    "        acc=knn_model(train_e2v,y_train,test_e2v,y_test,10,'e2v')\n",
    "        knn_e2v.append(acc)\n",
    "\n",
    "\n",
    "        print('\\nPerformance evaluation Word2Vec')\n",
    "        acc=knn_model(train_w2v,y_train,test_w2v,y_test,10,'w2v')\n",
    "        knn_w2v.append(acc)\n",
    "      \n",
    "\n",
    "\n",
    "        print('\\nGaussian NB results:')\n",
    "        print('\\nPerformance evaluation Emoji2Vec')\n",
    "        acc=naive(train_e2v,y_train,test_e2v,y_test,'e2v')\n",
    "        naive_e2v.append(acc)\n",
    "\n",
    "        print('\\nPerformance evaluation Word2Vec')\n",
    "        acc=naive(train_w2v,y_train,test_w2v,y_test,'w2v')\n",
    "        naive_w2v.append(acc)\n",
    "        \n",
    "\n",
    "        print('\\nDecision tree results:')\n",
    "        print('\\nPerformance evaluation Emoji2Vec')\n",
    "        acc=decision_trees(train_e2v,y_train,test_e2v,y_test,'e2v')\n",
    "        dt_e2v.append(acc)\n",
    "\n",
    "\n",
    "        print('\\nPerformance evaluation Word2Vec')\n",
    "        acc=decision_trees(train_w2v,y_train,test_w2v,y_test,'w2v')\n",
    "        dt_w2v.append(acc)\n",
    "        \n",
    "\n",
    "        print('\\nAdaboost results:')\n",
    "        print('\\nPerformance evaluation Emoji2Vec')\n",
    "        acc=ada_boost(train_e2v,y_train,test_e2v,y_test,'e2v')\n",
    "        ada_e2v.append(acc)\n",
    "\n",
    "\n",
    "        print('\\nPerformance evaluation Word2Vec')\n",
    "        acc=ada_boost(train_w2v,y_train,test_w2v,y_test,'w2v')\n",
    "        ada_w2v.append(acc)\n",
    "        \n",
    "\n",
    "        print('\\nRandom forest results:')\n",
    "        print('\\nPerformance evaluation Emoji2Vec')\n",
    "        acc=random_forest(train_e2v,y_train,test_e2v,y_test,'e2v')\n",
    "        rf_e2v.append(acc)\n",
    "\n",
    "\n",
    "        print('\\nPerformance evaluation Word2Vec')\n",
    "        acc=random_forest(train_w2v,y_train,test_w2v,y_test,'w2v')\n",
    "        rf_w2v.append(acc)\n",
    "     \n",
    "\n",
    "        print('\\nSVM results:')\n",
    "        print('\\nPerformance evaluation Emoji2Vec')\n",
    "        acc=svm(train_e2v,y_train,test_e2v,y_test,'e2v')\n",
    "        svm_e2v.append(acc)\n",
    "\n",
    "\n",
    "        print('\\nPerformance evaluation Word2Vec')\n",
    "        acc=svm(train_w2v,y_train,test_w2v,y_test,'w2v')\n",
    "        svm_w2v.append(acc)\n",
    "        \n",
    "\n",
    "        print('\\nLogistic regression results:')\n",
    "        print('\\nPerformance evaluation Emoji2Vec')\n",
    "        acc=logistic_regression(train_e2v,y_train,test_e2v,y_test,'e2v')\n",
    "        lr_e2v.append(acc)\n",
    "\n",
    "        print('\\nPerformance evaluation Word2Vec')\n",
    "        acc=logistic_regression(train_w2v,y_train,test_w2v,y_test,'w2v')\n",
    "        lr_w2v.append(acc)\n",
    "        \n",
    "        print('\\nNeural Network results:')\n",
    "        print('\\nPerformance evaluation Emoji2Vec')\n",
    "        acc=neural_network(train_e2v,y_train,test_e2v,y_test,'e2v')\n",
    "        nn_e2v.append(acc)\n",
    "       \n",
    "        print('\\nPerformance evaluation Word2Vec')\n",
    "        acc=neural_network(train_w2v,y_train,test_w2v,y_test,'w2v')\n",
    "        nn_w2v.append(acc)\n",
    "       \n",
    "    \n",
    "    \n",
    "    #Averaging accuracy over 4 iterations\n",
    "    e2v.append(round((sum(knn_e2v)/4)*100,2))\n",
    "    w2v.append(round((sum(knn_w2v)/4)*100,2))\n",
    "    e2v.append(round((sum(naive_e2v)/4)*100,2))\n",
    "    w2v.append(round((sum(naive_w2v)/4)*100,2))\n",
    "    e2v.append(round((sum(dt_e2v)/4)*100,2))\n",
    "    w2v.append(round((sum(dt_w2v)/4)*100,2))\n",
    "    e2v.append(round((sum(ada_e2v)/4)*100,2))\n",
    "    w2v.append(round((sum(ada_w2v)/4)*100,2))\n",
    "    e2v.append(round((sum(rf_e2v)/4)*100,2))\n",
    "    w2v.append(round((sum(rf_w2v)/4)*100,2))\n",
    "    e2v.append(round((sum(svm_e2v)/4)*100,2))\n",
    "    w2v.append(round((sum(svm_w2v)/4)*100,2))\n",
    "    e2v.append(round((sum(lr_e2v)/4)*100,2))\n",
    "    w2v.append(round((sum(lr_w2v)/4)*100,2))\n",
    "    e2v.append(round((sum(nn_e2v)/4)*100,2))\n",
    "    w2v.append(round((sum(nn_w2v)/4)*100,2))\n",
    "    \n",
    "    \n",
    "\n",
    "if __name__ == '__main__':\n",
    "    main()\n",
    "\n",
    "\n",
    "\n"
   ]
  },
  {
   "cell_type": "markdown",
   "id": "3a00ad09",
   "metadata": {},
   "source": [
    "### Data Distribution Analysis"
   ]
  },
  {
   "cell_type": "code",
   "execution_count": 126,
   "id": "51f2ca29",
   "metadata": {},
   "outputs": [
    {
     "name": "stdout",
     "output_type": "stream",
     "text": [
      "depressed_tweet with emojis 951\n",
      "non_depressed_tweet with emojis 1372\n",
      "total tweets 15566\n"
     ]
    },
    {
     "data": {
      "text/plain": [
       "<matplotlib.legend.Legend at 0x3c14e4eb0>"
      ]
     },
     "execution_count": 126,
     "metadata": {},
     "output_type": "execute_result"
    },
    {
     "data": {
      "image/png": "[encoded data removed]",
      "text/plain": [
       "<Figure size 792x360 with 1 Axes>"
      ]
     },
     "metadata": {},
     "output_type": "display_data"
    },
    {
     "data": {
      "image/png": "[encoded data removed]",
      "text/plain": [
       "<Figure size 792x360 with 1 Axes>"
      ]
     },
     "metadata": {},
     "output_type": "display_data"
    }
   ],
   "source": [
    "def get_emojis_in_tweet(tweet, emojis_ours, tokenizer):\n",
    "    \"\"\"Get a list of all the emojis in a tweet based on the sets provided\n",
    "    Args:\n",
    "        tweet: Tweet\n",
    "        emojis_ours: Emoji vectors trained on our model\n",
    "        emojis_theirs: Emoji vectors trained on an external model\n",
    "        emojis_popular: List of popular emojis\n",
    "        tokenizer: NLTK tokenizer\n",
    "    Returns:\n",
    "        Emojis in a tweet\n",
    "    \"\"\"\n",
    "    tokens = tokenizer.tokenize(tweet)\n",
    "    ems = set()\n",
    "    for token in tokens:\n",
    "        if token in emojis_ours:\n",
    "            ems.add(token)\n",
    "    return ems\n",
    "\n",
    "def get_tweets_with_emoji(tweets, emojis_ours):\n",
    "    \"\"\"Get all tweets with emoji in the sets\n",
    "    Args:\n",
    "        tweets: List of Tweets\n",
    "        emojis_ours: Emoji vectors trained on our model\n",
    "        emojis_theirs: Emoji vectors trained on an external model\n",
    "        emojis_popular: List of popular emojis\n",
    "    Returns:\n",
    "        All tweets containing emoji\n",
    "    \"\"\"\n",
    "    tokenizer = tk.TweetTokenizer(preserve_case=False, reduce_len=True, strip_handles=True)\n",
    "    ems = list()\n",
    "    for i,tweet in enumerate(tweets):\n",
    "        if get_emojis_in_tweet(tweet, emojis_ours, tokenizer):\n",
    "            ems.append([tweet,i])\n",
    "    return ems\n",
    "\n",
    "depressed_tweet=get_tweets_with_emoji(tweets[tweets['label']==1]['sen'],e2v_ours)\n",
    "print('depressed_tweet with emojis',len(depressed_tweet))\n",
    "\n",
    "non_depressed_tweet=get_tweets_with_emoji(tweets[tweets['label']==0]['sen'],e2v_ours)\n",
    "print('non_depressed_tweet with emojis',len(non_depressed_tweet))\n",
    "\n",
    "print('total tweets',tweets.shape[0])\n",
    "\n",
    "#Plot data distribution - emoji's\n",
    "labels = [\"Depressed Tweets with Emoji's\", \"Non Depressed Tweets with Emoji's\",\"Tweets with No Emoji's\"]\n",
    "x=[len(depressed_tweet) , len(non_depressed_tweet), tweets.shape[0]-(len(depressed_tweet)+len(non_depressed_tweet))]\n",
    "fig1, ax1 = plt.subplots(figsize=(11,5))\n",
    "ax1.pie(x, autopct='%1.1f%%',\n",
    "        shadow=True, startangle=90,)\n",
    "ax1.axis('equal')  # Equal aspect ratio ensures that pie is drawn as a circle.\n",
    "ax1.legend(labels,loc=\"lower right\")\n",
    "\n",
    "\n",
    "labels2 = [\"Depressed Tweets\", \"Non Depressed Tweets\"]\n",
    "y=[len(tweets[tweets['label']==1]) , len(tweets[tweets['label']==0])]\n",
    "fig1, ax1 = plt.subplots(figsize=(11,5))\n",
    "ax1.pie(y, autopct='%1.1f%%',\n",
    "        shadow=True, startangle=90,)\n",
    "ax1.axis('equal')  # Equal aspect ratio ensures that pie is drawn as a circle.\n",
    "ax1.legend(labels2,loc=\"lower right\")\n",
    "\n"
   ]
  },
  {
   "cell_type": "markdown",
   "id": "6b11ac80",
   "metadata": {},
   "source": [
    "### Comparison Plot"
   ]
  },
  {
   "cell_type": "code",
   "execution_count": 74,
   "id": "f2589ea2",
   "metadata": {},
   "outputs": [
    {
     "data": {
      "image/png": "[encoded data removed]",
      "text/plain": [
       "<Figure size 1080x360 with 1 Axes>"
      ]
     },
     "metadata": {
      "needs_background": "light"
     },
     "output_type": "display_data"
    }
   ],
   "source": [
    "\n",
    "#Plotting\n",
    "labels=['KNN','GaussianNB','DT','Ada','RF','SVM','LR','NN']\n",
    "model_e2v=e2v\n",
    "model_w2v=w2v\n",
    "\n",
    "x = np.arange(len(labels))\n",
    "width = 0.30\n",
    "\n",
    "fig, ax = plt.subplots(figsize=(15,5))\n",
    "rects1 = ax.bar(x - width/2, model_e2v, width, label='Emoji2Vec')\n",
    "rects2 = ax.bar(x + width/2, model_w2v, width, label='Word2Vec')\n",
    "\n",
    "ax.set_ylabel('Accuracies')\n",
    "ax.set_xlabel('Model')\n",
    "ax.set_title('Comparitive Analysis of Emoji2Vec and Word2Vec')\n",
    "ax.set_xticks(x, labels)\n",
    "ax.legend(loc='lower right')\n",
    "\n",
    "ax.bar_label(rects1, padding=2)\n",
    "ax.bar_label(rects2, padding=2)\n",
    "\n",
    "fig.tight_layout()\n",
    "\n",
    "plt.show()"
   ]
  }
 ],
 "metadata": {
  "kernelspec": {
   "display_name": "Python 3 (ipykernel)",
   "language": "python",
   "name": "python3"
  },
  "language_info": {
   "codemirror_mode": {
    "name": "ipython",
    "version": 3
   },
   "file_extension": ".py",
   "mimetype": "text/x-python",
   "name": "python",
   "nbconvert_exporter": "python",
   "pygments_lexer": "ipython3",
   "version": "3.8.12"
  }
 },
 "nbformat": 4,
 "nbformat_minor": 5
}
