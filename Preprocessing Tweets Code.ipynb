{
 "cells": [
  {
   "cell_type": "code",
   "execution_count": 1,
   "metadata": {},
   "outputs": [],
   "source": [
    "import pandas as pd\n",
    "import numpy as np\n",
    "from nltk.corpus import stopwords\n",
    "from nltk.tokenize import TweetTokenizer\n",
    "import string"
   ]
  },
  {
   "cell_type": "markdown",
   "metadata": {},
   "source": [
    "### Loading Data for Preprocessing"
   ]
  },
  {
   "cell_type": "code",
   "execution_count": 8,
   "metadata": {},
   "outputs": [
    {
     "data": {
      "text/html": [
       "<div>\n",
       "<style scoped>\n",
       "    .dataframe tbody tr th:only-of-type {\n",
       "        vertical-align: middle;\n",
       "    }\n",
       "\n",
       "    .dataframe tbody tr th {\n",
       "        vertical-align: top;\n",
       "    }\n",
       "\n",
       "    .dataframe thead th {\n",
       "        text-align: right;\n",
       "    }\n",
       "</style>\n",
       "<table border=\"1\" class=\"dataframe\">\n",
       "  <thead>\n",
       "    <tr style=\"text-align: right;\">\n",
       "      <th></th>\n",
       "      <th>id</th>\n",
       "      <th>text</th>\n",
       "      <th>label</th>\n",
       "    </tr>\n",
       "  </thead>\n",
       "  <tbody>\n",
       "    <tr>\n",
       "      <th>0</th>\n",
       "      <td>1462903753649053703</td>\n",
       "      <td>Why should the #EMU only be for epilepsy? We r...</td>\n",
       "      <td>1</td>\n",
       "    </tr>\n",
       "    <tr>\n",
       "      <th>1</th>\n",
       "      <td>1462903869529284608</td>\n",
       "      <td>And yet I listen to a youth orchestra and they...</td>\n",
       "      <td>1</td>\n",
       "    </tr>\n",
       "    <tr>\n",
       "      <th>2</th>\n",
       "      <td>1462903886000361483</td>\n",
       "      <td>Your #thoughts create ur reality, including ur...</td>\n",
       "      <td>1</td>\n",
       "    </tr>\n",
       "    <tr>\n",
       "      <th>3</th>\n",
       "      <td>1462903890639302660</td>\n",
       "      <td>5 Signs of toxic overthinking 🚩\\nDid you know ...</td>\n",
       "      <td>1</td>\n",
       "    </tr>\n",
       "    <tr>\n",
       "      <th>4</th>\n",
       "      <td>1462903928174088192</td>\n",
       "      <td>#MentalHealthMonday reminder - if you are expe...</td>\n",
       "      <td>1</td>\n",
       "    </tr>\n",
       "  </tbody>\n",
       "</table>\n",
       "</div>"
      ],
      "text/plain": [
       "                    id                                               text  \\\n",
       "0  1462903753649053703  Why should the #EMU only be for epilepsy? We r...   \n",
       "1  1462903869529284608  And yet I listen to a youth orchestra and they...   \n",
       "2  1462903886000361483  Your #thoughts create ur reality, including ur...   \n",
       "3  1462903890639302660  5 Signs of toxic overthinking 🚩\\nDid you know ...   \n",
       "4  1462903928174088192  #MentalHealthMonday reminder - if you are expe...   \n",
       "\n",
       "   label  \n",
       "0      1  \n",
       "1      1  \n",
       "2      1  \n",
       "3      1  \n",
       "4      1  "
      ]
     },
     "execution_count": 8,
     "metadata": {},
     "output_type": "execute_result"
    }
   ],
   "source": [
    "#Read File\n",
    "df=pd.read_excel('tweets/tweets.xlsx', index_col=0)\n",
    "df = pd.DataFrame(df.copy(), columns = ['id', 'text','label'])\n",
    "df.head()"
   ]
  },
  {
   "cell_type": "markdown",
   "metadata": {},
   "source": [
    "### Pre-proccesing Tweets"
   ]
  },
  {
   "cell_type": "markdown",
   "metadata": {},
   "source": [
    "Pre-processing steps we do:\n",
    "1. Remove any duplicated tweets by looking at their tweet_ids\n",
    "2. Tokenize using the NLTK TweetTokenizer\n",
    "3. Remove punctuation\n",
    "4. Remove stopwords\n",
    "4. Remove the 'RT' symbol\n",
    "5. Remove URLs\n",
    "6. Remove the hashtag symbol. Keep the word of the hashtag though"
   ]
  },
  {
   "cell_type": "code",
   "execution_count": 9,
   "metadata": {},
   "outputs": [],
   "source": [
    "def deduplicate_and_tokenize(df):\n",
    "    \n",
    "    #removing any duplicate tweets. Looking at the tweet_id\n",
    "    df = df.drop_duplicates(subset='id', keep='first')\n",
    "    \n",
    "    #tokenizing, converting everything to lowercase, and reducing length of repeated chars ('Baaaaad' becomes 'Baaad')\n",
    "    tokenizer = TweetTokenizer(preserve_case=False, reduce_len=True)\n",
    "    df['tokenized_text'] = df.apply(lambda row: tokenizer.tokenize(row['text']), axis=1)\n",
    "    return df"
   ]
  },
  {
   "cell_type": "code",
   "execution_count": 10,
   "metadata": {},
   "outputs": [],
   "source": [
    "def preprocess(tokens, ignore_urls=True, ignore_rt_char=True, ignore_hashtags=True,\n",
    "              ignore_mentions=True, ignore_numbers=True,remove_stopwords=True, ignore_punctuation=True, min_tweet_length=1):\n",
    "    \n",
    "    cleaned_tokens = []\n",
    "    num_of_hashtags = 0\n",
    "    punctuations = list(string.punctuation)\n",
    "    sword = stopwords.words('english')\n",
    "    \n",
    "    for token in tokens:  \n",
    "        if remove_stopwords and token in sword: # ignore stopword\n",
    "                 continue\n",
    "        if ignore_urls and ( token.startswith('https:') or token.startswith('http:') ): #ignoring URLs\n",
    "            continue\n",
    "        if ignore_rt_char and token == 'rt': # ignore 'retweet' symbol\n",
    "             continue\n",
    "        if ignore_hashtags and token.startswith('#'): # ignore hashtags\n",
    "            token=token.replace('#','')\n",
    "            num_of_hashtags+=1\n",
    "        if ignore_mentions and token.startswith('@'): # ignore mentions\n",
    "             continue\n",
    "        if ignore_numbers and token.isnumeric(): #ignore numbers\n",
    "            continue\n",
    "        if ignore_punctuation and token in punctuations:\n",
    "            continue\n",
    "        \n",
    "        cleaned_tokens.append(token)\n",
    "        \n",
    "    #tweets should a minimum length\n",
    "    #tweets should also have some words that are not hashtags\n",
    "    if (len(cleaned_tokens) < min_tweet_length) or ((len(cleaned_tokens) - num_of_hashtags) < min_tweet_length):\n",
    "        return np.nan\n",
    "    else:\n",
    "        return cleaned_tokens"
   ]
  },
  {
   "cell_type": "code",
   "execution_count": 11,
   "metadata": {},
   "outputs": [],
   "source": [
    "tweets = deduplicate_and_tokenize(df)\n",
    "processed_text = pd.Series([preprocess(tokens) for tokens in tweets.tokenized_text])\n",
    "tweets['processed_text'] = processed_text"
   ]
  },
  {
   "cell_type": "code",
   "execution_count": 12,
   "metadata": {},
   "outputs": [
    {
     "data": {
      "text/html": [
       "<div>\n",
       "<style scoped>\n",
       "    .dataframe tbody tr th:only-of-type {\n",
       "        vertical-align: middle;\n",
       "    }\n",
       "\n",
       "    .dataframe tbody tr th {\n",
       "        vertical-align: top;\n",
       "    }\n",
       "\n",
       "    .dataframe thead th {\n",
       "        text-align: right;\n",
       "    }\n",
       "</style>\n",
       "<table border=\"1\" class=\"dataframe\">\n",
       "  <thead>\n",
       "    <tr style=\"text-align: right;\">\n",
       "      <th></th>\n",
       "      <th>id</th>\n",
       "      <th>text</th>\n",
       "      <th>label</th>\n",
       "      <th>tokenized_text</th>\n",
       "      <th>processed_text</th>\n",
       "    </tr>\n",
       "  </thead>\n",
       "  <tbody>\n",
       "    <tr>\n",
       "      <th>0</th>\n",
       "      <td>1462903753649053703</td>\n",
       "      <td>Why should the #EMU only be for epilepsy? We r...</td>\n",
       "      <td>1</td>\n",
       "      <td>[why, should, the, #emu, only, be, for, epilep...</td>\n",
       "      <td>[emu, epilepsy, report, complete, remission, d...</td>\n",
       "    </tr>\n",
       "    <tr>\n",
       "      <th>1</th>\n",
       "      <td>1462903869529284608</td>\n",
       "      <td>And yet I listen to a youth orchestra and they...</td>\n",
       "      <td>1</td>\n",
       "      <td>[and, yet, i, listen, to, a, youth, orchestra,...</td>\n",
       "      <td>[yet, listen, youth, orchestra, shyte, beat, t...</td>\n",
       "    </tr>\n",
       "    <tr>\n",
       "      <th>2</th>\n",
       "      <td>1462903886000361483</td>\n",
       "      <td>Your #thoughts create ur reality, including ur...</td>\n",
       "      <td>1</td>\n",
       "      <td>[your, #thoughts, create, ur, reality, ,, incl...</td>\n",
       "      <td>[thoughts, create, ur, reality, including, ur,...</td>\n",
       "    </tr>\n",
       "    <tr>\n",
       "      <th>3</th>\n",
       "      <td>1462903890639302660</td>\n",
       "      <td>5 Signs of toxic overthinking 🚩\\nDid you know ...</td>\n",
       "      <td>1</td>\n",
       "      <td>[5, signs, of, toxic, overthinking, 🚩, did, yo...</td>\n",
       "      <td>[signs, toxic, overthinking, 🚩, know, toxic, o...</td>\n",
       "    </tr>\n",
       "    <tr>\n",
       "      <th>4</th>\n",
       "      <td>1462903928174088192</td>\n",
       "      <td>#MentalHealthMonday reminder - if you are expe...</td>\n",
       "      <td>1</td>\n",
       "      <td>[#mentalhealthmonday, reminder, -, if, you, ar...</td>\n",
       "      <td>[mentalhealthmonday, reminder, experiencing, a...</td>\n",
       "    </tr>\n",
       "  </tbody>\n",
       "</table>\n",
       "</div>"
      ],
      "text/plain": [
       "                    id                                               text  \\\n",
       "0  1462903753649053703  Why should the #EMU only be for epilepsy? We r...   \n",
       "1  1462903869529284608  And yet I listen to a youth orchestra and they...   \n",
       "2  1462903886000361483  Your #thoughts create ur reality, including ur...   \n",
       "3  1462903890639302660  5 Signs of toxic overthinking 🚩\\nDid you know ...   \n",
       "4  1462903928174088192  #MentalHealthMonday reminder - if you are expe...   \n",
       "\n",
       "   label                                     tokenized_text  \\\n",
       "0      1  [why, should, the, #emu, only, be, for, epilep...   \n",
       "1      1  [and, yet, i, listen, to, a, youth, orchestra,...   \n",
       "2      1  [your, #thoughts, create, ur, reality, ,, incl...   \n",
       "3      1  [5, signs, of, toxic, overthinking, 🚩, did, yo...   \n",
       "4      1  [#mentalhealthmonday, reminder, -, if, you, ar...   \n",
       "\n",
       "                                      processed_text  \n",
       "0  [emu, epilepsy, report, complete, remission, d...  \n",
       "1  [yet, listen, youth, orchestra, shyte, beat, t...  \n",
       "2  [thoughts, create, ur, reality, including, ur,...  \n",
       "3  [signs, toxic, overthinking, 🚩, know, toxic, o...  \n",
       "4  [mentalhealthmonday, reminder, experiencing, a...  "
      ]
     },
     "execution_count": 12,
     "metadata": {},
     "output_type": "execute_result"
    }
   ],
   "source": [
    "tweets.head()"
   ]
  },
  {
   "cell_type": "code",
   "execution_count": 13,
   "metadata": {},
   "outputs": [
    {
     "name": "stdout",
     "output_type": "stream",
     "text": [
      "(18800, 5)\n",
      "(15566, 5)\n"
     ]
    }
   ],
   "source": [
    "#Removing empty strings if any\n",
    "print(tweets.shape)\n",
    "tweets = tweets.dropna()\n",
    "print(tweets.shape)"
   ]
  },
  {
   "cell_type": "markdown",
   "metadata": {},
   "source": [
    "### Saving pre-processed tweets to CSV\n",
    "\n",
    "Question for the group - in what format should we save the emojis?\n",
    "Creating a CSV from Pandas replaces the emoji with some unicode characters, but creating an Excel file keeps them."
   ]
  },
  {
   "cell_type": "code",
   "execution_count": 26,
   "metadata": {},
   "outputs": [],
   "source": [
    "tweets.to_csv('tweets/tweets_preprocessed.csv', index=None, header=True)"
   ]
  },
  {
   "cell_type": "markdown",
   "metadata": {},
   "source": [
    "### Reading the pre-proccesed tweets"
   ]
  },
  {
   "cell_type": "code",
   "execution_count": 16,
   "metadata": {
    "scrolled": true
   },
   "outputs": [
    {
     "data": {
      "text/html": [
       "<div>\n",
       "<style scoped>\n",
       "    .dataframe tbody tr th:only-of-type {\n",
       "        vertical-align: middle;\n",
       "    }\n",
       "\n",
       "    .dataframe tbody tr th {\n",
       "        vertical-align: top;\n",
       "    }\n",
       "\n",
       "    .dataframe thead th {\n",
       "        text-align: right;\n",
       "    }\n",
       "</style>\n",
       "<table border=\"1\" class=\"dataframe\">\n",
       "  <thead>\n",
       "    <tr style=\"text-align: right;\">\n",
       "      <th></th>\n",
       "      <th>id</th>\n",
       "      <th>text</th>\n",
       "      <th>label</th>\n",
       "      <th>tokenized_text</th>\n",
       "      <th>processed_text</th>\n",
       "    </tr>\n",
       "  </thead>\n",
       "  <tbody>\n",
       "    <tr>\n",
       "      <th>0</th>\n",
       "      <td>1462903753649053703</td>\n",
       "      <td>Why should the #EMU only be for epilepsy? We r...</td>\n",
       "      <td>1</td>\n",
       "      <td>['why', 'should', 'the', '#emu', 'only', 'be',...</td>\n",
       "      <td>['emu', 'epilepsy', 'report', 'complete', 'rem...</td>\n",
       "    </tr>\n",
       "    <tr>\n",
       "      <th>1</th>\n",
       "      <td>1462903869529284608</td>\n",
       "      <td>And yet I listen to a youth orchestra and they...</td>\n",
       "      <td>1</td>\n",
       "      <td>['and', 'yet', 'i', 'listen', 'to', 'a', 'yout...</td>\n",
       "      <td>['yet', 'listen', 'youth', 'orchestra', 'shyte...</td>\n",
       "    </tr>\n",
       "    <tr>\n",
       "      <th>2</th>\n",
       "      <td>1462903886000361483</td>\n",
       "      <td>Your #thoughts create ur reality, including ur...</td>\n",
       "      <td>1</td>\n",
       "      <td>['your', '#thoughts', 'create', 'ur', 'reality...</td>\n",
       "      <td>['thoughts', 'create', 'ur', 'reality', 'inclu...</td>\n",
       "    </tr>\n",
       "    <tr>\n",
       "      <th>3</th>\n",
       "      <td>1462903890639302660</td>\n",
       "      <td>5 Signs of toxic overthinking 🚩\\nDid you know ...</td>\n",
       "      <td>1</td>\n",
       "      <td>['5', 'signs', 'of', 'toxic', 'overthinking', ...</td>\n",
       "      <td>['signs', 'toxic', 'overthinking', '🚩', 'know'...</td>\n",
       "    </tr>\n",
       "    <tr>\n",
       "      <th>4</th>\n",
       "      <td>1462903928174088192</td>\n",
       "      <td>#MentalHealthMonday reminder - if you are expe...</td>\n",
       "      <td>1</td>\n",
       "      <td>['#mentalhealthmonday', 'reminder', '-', 'if',...</td>\n",
       "      <td>['mentalhealthmonday', 'reminder', 'experienci...</td>\n",
       "    </tr>\n",
       "  </tbody>\n",
       "</table>\n",
       "</div>"
      ],
      "text/plain": [
       "                    id                                               text  \\\n",
       "0  1462903753649053703  Why should the #EMU only be for epilepsy? We r...   \n",
       "1  1462903869529284608  And yet I listen to a youth orchestra and they...   \n",
       "2  1462903886000361483  Your #thoughts create ur reality, including ur...   \n",
       "3  1462903890639302660  5 Signs of toxic overthinking 🚩\\nDid you know ...   \n",
       "4  1462903928174088192  #MentalHealthMonday reminder - if you are expe...   \n",
       "\n",
       "   label                                     tokenized_text  \\\n",
       "0      1  ['why', 'should', 'the', '#emu', 'only', 'be',...   \n",
       "1      1  ['and', 'yet', 'i', 'listen', 'to', 'a', 'yout...   \n",
       "2      1  ['your', '#thoughts', 'create', 'ur', 'reality...   \n",
       "3      1  ['5', 'signs', 'of', 'toxic', 'overthinking', ...   \n",
       "4      1  ['#mentalhealthmonday', 'reminder', '-', 'if',...   \n",
       "\n",
       "                                      processed_text  \n",
       "0  ['emu', 'epilepsy', 'report', 'complete', 'rem...  \n",
       "1  ['yet', 'listen', 'youth', 'orchestra', 'shyte...  \n",
       "2  ['thoughts', 'create', 'ur', 'reality', 'inclu...  \n",
       "3  ['signs', 'toxic', 'overthinking', '🚩', 'know'...  \n",
       "4  ['mentalhealthmonday', 'reminder', 'experienci...  "
      ]
     },
     "execution_count": 16,
     "metadata": {},
     "output_type": "execute_result"
    }
   ],
   "source": [
    "import pandas as pd\n",
    "df = pd.read_csv('tweets/tweets_preprocessed.csv')\n",
    "df.head()"
   ]
  },
  {
   "cell_type": "code",
   "execution_count": 17,
   "metadata": {},
   "outputs": [],
   "source": [
    "from ast import literal_eval\n",
    "Sentences=[]\n",
    "for i in df.index:\n",
    "    a= literal_eval(df['processed_text'][i])\n",
    "    Sentences.append(a)\n"
   ]
  },
  {
   "cell_type": "code",
   "execution_count": null,
   "metadata": {},
   "outputs": [],
   "source": []
  },
  {
   "cell_type": "code",
   "execution_count": null,
   "metadata": {},
   "outputs": [],
   "source": []
  }
 ],
 "metadata": {
  "kernelspec": {
   "display_name": "Python 3 (ipykernel)",
   "language": "python",
   "name": "python3"
  },
  "language_info": {
   "codemirror_mode": {
    "name": "ipython",
    "version": 3
   },
   "file_extension": ".py",
   "mimetype": "text/x-python",
   "name": "python",
   "nbconvert_exporter": "python",
   "pygments_lexer": "ipython3",
   "version": "3.8.12"
  }
 },
 "nbformat": 4,
 "nbformat_minor": 2
}
