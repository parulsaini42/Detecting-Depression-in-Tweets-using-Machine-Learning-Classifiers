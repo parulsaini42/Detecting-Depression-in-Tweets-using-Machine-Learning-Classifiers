{
 "cells": [
  {
   "cell_type": "code",
   "execution_count": 1,
   "id": "e7a82a76",
   "metadata": {},
   "outputs": [],
   "source": [
    "import tweepy #using version 3.7.0\n",
    "import json\n",
    "import pandas as pd"
   ]
  },
  {
   "cell_type": "code",
   "execution_count": 3,
   "id": "b877fc98",
   "metadata": {},
   "outputs": [],
   "source": [
    "#Variables that contains the user credentials to access Twitter API \n",
    "access_token = \"\"\n",
    "access_token_secret = \"\"\n",
    "consumer_key = \"\"\n",
    "consumer_secret = \"\""
   ]
  },
  {
   "cell_type": "code",
   "execution_count": 4,
   "id": "00f343f8",
   "metadata": {},
   "outputs": [],
   "source": [
    "auth = tweepy.OAuthHandler(consumer_key, consumer_secret)\n",
    "auth.set_access_token(access_token, access_token_secret)\n",
    "\n",
    "api = tweepy.API(auth, wait_on_rate_limit=True)"
   ]
  },
  {
   "cell_type": "code",
   "execution_count": 32,
   "id": "a7c9a0e5",
   "metadata": {},
   "outputs": [],
   "source": [
    "#creating the list of lists which will eventually become the dataframe\n",
    "ids = []\n",
    "full_text = []\n",
    "created_at = []\n",
    "label=[]"
   ]
  },
  {
   "cell_type": "code",
   "execution_count": 42,
   "id": "ec31d2cc",
   "metadata": {},
   "outputs": [],
   "source": [
    "emotions = {\n",
    "    'depression': \"#depression\",\n",
    "    'anxiety': \"#anxiety\",\n",
    "    'mentalhealth': \"#mentalhealth\"\n",
    "    }"
   ]
  },
  {
   "cell_type": "code",
   "execution_count": 43,
   "id": "63ed1b40",
   "metadata": {},
   "outputs": [],
   "source": [
    "#https://stackoverflow.com/questions/22469713/managing-tweepy-api-search\n",
    "def get_tweets(keywords,date_until, num_of_tweets ):\n",
    "    searched_tweets = []\n",
    "    last_id = -1\n",
    "    \n",
    "    while len(searched_tweets) < num_of_tweets:\n",
    "        try:\n",
    "            new_tweets = api.search(q=keywords, count=100, max_id=str(last_id-1), tweet_mode='extended', lang='en', until=date_until)\n",
    "            if not new_tweets:\n",
    "                print(\"No tweets found in this call to api_search\")\n",
    "                break\n",
    "            for tweet in new_tweets:\n",
    "                if 'retweeted_status' not in tweet._json:\n",
    "                    searched_tweets.append(tweet)\n",
    "            last_id=new_tweets[-1].id\n",
    "        except tweepy.TweepError as e:\n",
    "            break\n",
    "    return searched_tweets"
   ]
  },
  {
   "cell_type": "code",
   "execution_count": 44,
   "id": "3683da6e",
   "metadata": {},
   "outputs": [
    {
     "name": "stdout",
     "output_type": "stream",
     "text": [
      "No tweets found in this call to api_search\n"
     ]
    }
   ],
   "source": [
    "#this cell does the actual scraping. Isolating it so that we don't waste our tweet cap while doing development\n",
    "searched_tweets = {}\n",
    "num_of_tweets = 15000\n",
    "date_until = '2021-12-9'\n",
    "for emotion, keywords in emotions.items():\n",
    "    searched_tweets[emotion] = get_tweets(keywords,date_until, num_of_tweets)"
   ]
  },
  {
   "cell_type": "code",
   "execution_count": 45,
   "id": "98dabcba",
   "metadata": {},
   "outputs": [
    {
     "name": "stdout",
     "output_type": "stream",
     "text": [
      "depression\n",
      "5582\n"
     ]
    }
   ],
   "source": [
    "for emotion, tweets in searched_tweets.items():\n",
    "    print(emotion)\n",
    "    print(len(tweets))"
   ]
  },
  {
   "cell_type": "code",
   "execution_count": 46,
   "id": "52a715ef",
   "metadata": {},
   "outputs": [],
   "source": [
    "for emotion, tweets in searched_tweets.items(): #iterating through the emotions\n",
    "    for tweet in tweets: #iterating through the tweets for each emotion\n",
    "        ids.append(tweet._json['id_str'])\n",
    "        created_at.append(tweet._json['created_at'])\n",
    "        full_text.append(tweet._json['full_text'])\n",
    "        label.append(1)"
   ]
  },
  {
   "cell_type": "code",
   "execution_count": 47,
   "id": "17ee280f",
   "metadata": {},
   "outputs": [],
   "source": [
    "dictionary = {\n",
    "    'id': ids,\n",
    "    'text': full_text,\n",
    "    'created_at': created_at,\n",
    "    'label': label\n",
    "}\n",
    "df = pd.DataFrame(dictionary)"
   ]
  },
  {
   "cell_type": "code",
   "execution_count": 48,
   "id": "b2ca6bad",
   "metadata": {},
   "outputs": [
    {
     "data": {
      "text/plain": [
       "(11504, 4)"
      ]
     },
     "execution_count": 48,
     "metadata": {},
     "output_type": "execute_result"
    }
   ],
   "source": [
    "df.shape"
   ]
  },
  {
   "cell_type": "code",
   "execution_count": 49,
   "id": "3765f709",
   "metadata": {},
   "outputs": [
    {
     "data": {
      "text/html": [
       "<div>\n",
       "<style scoped>\n",
       "    .dataframe tbody tr th:only-of-type {\n",
       "        vertical-align: middle;\n",
       "    }\n",
       "\n",
       "    .dataframe tbody tr th {\n",
       "        vertical-align: top;\n",
       "    }\n",
       "\n",
       "    .dataframe thead th {\n",
       "        text-align: right;\n",
       "    }\n",
       "</style>\n",
       "<table border=\"1\" class=\"dataframe\">\n",
       "  <thead>\n",
       "    <tr style=\"text-align: right;\">\n",
       "      <th></th>\n",
       "      <th>id</th>\n",
       "      <th>text</th>\n",
       "      <th>created_at</th>\n",
       "      <th>label</th>\n",
       "    </tr>\n",
       "  </thead>\n",
       "  <tbody>\n",
       "    <tr>\n",
       "      <th>0</th>\n",
       "      <td>1468731226739646470</td>\n",
       "      <td>😔FOOD AND MOOD. \\n\\nThe connection between our...</td>\n",
       "      <td>Wed Dec 08 23:56:26 +0000 2021</td>\n",
       "      <td>1</td>\n",
       "    </tr>\n",
       "    <tr>\n",
       "      <th>1</th>\n",
       "      <td>1468730364155813888</td>\n",
       "      <td>Online treatment for #anxiety. Effective onlin...</td>\n",
       "      <td>Wed Dec 08 23:53:01 +0000 2021</td>\n",
       "      <td>1</td>\n",
       "    </tr>\n",
       "    <tr>\n",
       "      <th>2</th>\n",
       "      <td>1468729608849829896</td>\n",
       "      <td>Speak to a Psychotherapist via Skype. Online M...</td>\n",
       "      <td>Wed Dec 08 23:50:01 +0000 2021</td>\n",
       "      <td>1</td>\n",
       "    </tr>\n",
       "    <tr>\n",
       "      <th>3</th>\n",
       "      <td>1468729303172931588</td>\n",
       "      <td>#Mentalhealth #Depression #Anxiety #Bipolar #C...</td>\n",
       "      <td>Wed Dec 08 23:48:48 +0000 2021</td>\n",
       "      <td>1</td>\n",
       "    </tr>\n",
       "    <tr>\n",
       "      <th>4</th>\n",
       "      <td>1468729104145039366</td>\n",
       "      <td>Speak to an online therapist for the treatment...</td>\n",
       "      <td>Wed Dec 08 23:48:00 +0000 2021</td>\n",
       "      <td>1</td>\n",
       "    </tr>\n",
       "  </tbody>\n",
       "</table>\n",
       "</div>"
      ],
      "text/plain": [
       "                    id                                               text  \\\n",
       "0  1468731226739646470  😔FOOD AND MOOD. \\n\\nThe connection between our...   \n",
       "1  1468730364155813888  Online treatment for #anxiety. Effective onlin...   \n",
       "2  1468729608849829896  Speak to a Psychotherapist via Skype. Online M...   \n",
       "3  1468729303172931588  #Mentalhealth #Depression #Anxiety #Bipolar #C...   \n",
       "4  1468729104145039366  Speak to an online therapist for the treatment...   \n",
       "\n",
       "                       created_at  label  \n",
       "0  Wed Dec 08 23:56:26 +0000 2021      1  \n",
       "1  Wed Dec 08 23:53:01 +0000 2021      1  \n",
       "2  Wed Dec 08 23:50:01 +0000 2021      1  \n",
       "3  Wed Dec 08 23:48:48 +0000 2021      1  \n",
       "4  Wed Dec 08 23:48:00 +0000 2021      1  "
      ]
     },
     "execution_count": 49,
     "metadata": {},
     "output_type": "execute_result"
    }
   ],
   "source": [
    "df.head()"
   ]
  },
  {
   "cell_type": "code",
   "execution_count": 50,
   "id": "037b56c8",
   "metadata": {},
   "outputs": [],
   "source": [
    "df.to_excel('tweets.xlsx')"
   ]
  },
  {
   "cell_type": "code",
   "execution_count": null,
   "id": "b6d3e405",
   "metadata": {},
   "outputs": [],
   "source": []
  }
 ],
 "metadata": {
  "kernelspec": {
   "display_name": "Python 3 (ipykernel)",
   "language": "python",
   "name": "python3"
  },
  "language_info": {
   "codemirror_mode": {
    "name": "ipython",
    "version": 3
   },
   "file_extension": ".py",
   "mimetype": "text/x-python",
   "name": "python",
   "nbconvert_exporter": "python",
   "pygments_lexer": "ipython3",
   "version": "3.8.12"
  }
 },
 "nbformat": 4,
 "nbformat_minor": 5
}
